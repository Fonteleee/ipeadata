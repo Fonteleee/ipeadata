{
  "nbformat": 4,
  "nbformat_minor": 0,
  "metadata": {
    "colab": {
      "provenance": [],
      "include_colab_link": true
    },
    "kernelspec": {
      "name": "python3",
      "display_name": "Python 3"
    },
    "language_info": {
      "name": "python"
    }
  },
  "cells": [
    {
      "cell_type": "markdown",
      "metadata": {
        "id": "view-in-github",
        "colab_type": "text"
      },
      "source": [
        "<a href=\"https://colab.research.google.com/github/Fonteleee/ipeadata/blob/main/PROJETO_MVI.ipynb\" target=\"_parent\"><img src=\"https://colab.research.google.com/assets/colab-badge.svg\" alt=\"Open In Colab\"/></a>"
      ]
    },
    {
      "cell_type": "code",
      "source": [
        "#Instação pyspark\n",
        "\n",
        "!pip install pyspark==3.3.2\n",
        "!apt-get install openjdk-8-jdk-headless -qq > /dev/nullk\n",
        "!wget -q https://dlcdn.apache.org/spark/spark-3.3.2/spark-3.3.2-bin-hadoop3.tgz\n",
        "!tar xf spark-3.3.2-bin-hadoop3.tgz\n",
        "!pip install -q findspark\n",
        "import os\n",
        "os.environ[\"JAVA_HOME\"] = \"/usr/lib/jvm/java-8-openjdk-amd64\"\n",
        "os.environ[\"SPARK_HOME\"] = \"/content/spark-3.3.2-bin-hadoop3\"\n",
        "\n",
        "import findspark\n",
        "findspark.init()\n",
        "\n",
        "from pyspark.sql import SparkSession\n",
        "spark = SparkSession.builder \\\n",
        "    .master('local[*]') \\\n",
        "    .appName('Iniciando com Spark') \\\n",
        "    .getOrCreate()"
      ],
      "metadata": {
        "colab": {
          "base_uri": "https://localhost:8080/"
        },
        "id": "TX0ZG4-QGXYX",
        "outputId": "e3e185a6-9d2e-4c86-ae7a-f6ebf8128406"
      },
      "execution_count": 5,
      "outputs": [
        {
          "output_type": "stream",
          "name": "stdout",
          "text": [
            "Looking in indexes: https://pypi.org/simple, https://us-python.pkg.dev/colab-wheels/public/simple/\n",
            "Collecting pyspark==3.3.2\n",
            "  Downloading pyspark-3.3.2.tar.gz (281.4 MB)\n",
            "\u001b[2K     \u001b[90m━━━━━━━━━━━━━━━━━━━━━━━━━━━━━━━━━━━━━━━\u001b[0m \u001b[32m281.4/281.4 MB\u001b[0m \u001b[31m4.8 MB/s\u001b[0m eta \u001b[36m0:00:00\u001b[0m\n",
            "\u001b[?25h  Preparing metadata (setup.py) ... \u001b[?25l\u001b[?25hdone\n",
            "Collecting py4j==0.10.9.5 (from pyspark==3.3.2)\n",
            "  Downloading py4j-0.10.9.5-py2.py3-none-any.whl (199 kB)\n",
            "\u001b[2K     \u001b[90m━━━━━━━━━━━━━━━━━━━━━━━━━━━━━━━━━━━━━━\u001b[0m \u001b[32m199.7/199.7 kB\u001b[0m \u001b[31m16.1 MB/s\u001b[0m eta \u001b[36m0:00:00\u001b[0m\n",
            "\u001b[?25hBuilding wheels for collected packages: pyspark\n",
            "  Building wheel for pyspark (setup.py) ... \u001b[?25l\u001b[?25hdone\n",
            "  Created wheel for pyspark: filename=pyspark-3.3.2-py2.py3-none-any.whl size=281824013 sha256=ee7b3487fea3cccf697aabc16cd91a711ea7e7cb85c67499642f68c976abe374\n",
            "  Stored in directory: /root/.cache/pip/wheels/89/d6/52/1178e354ba2207673484f0ccd7b2ded0ab6671ae5c1fc5b49a\n",
            "Successfully built pyspark\n",
            "Installing collected packages: py4j, pyspark\n",
            "  Attempting uninstall: py4j\n",
            "    Found existing installation: py4j 0.10.9.7\n",
            "    Uninstalling py4j-0.10.9.7:\n",
            "      Successfully uninstalled py4j-0.10.9.7\n",
            "Successfully installed py4j-0.10.9.5 pyspark-3.3.2\n"
          ]
        }
      ]
    },
    {
      "cell_type": "code",
      "execution_count": 1,
      "metadata": {
        "colab": {
          "base_uri": "https://localhost:8080/",
          "height": 74
        },
        "id": "3boaz-aEVUD9",
        "outputId": "bced0b13-8203-4806-d0d0-57fd5080e4c4"
      },
      "outputs": [
        {
          "output_type": "display_data",
          "data": {
            "text/plain": [
              "<IPython.core.display.HTML object>"
            ],
            "text/html": [
              "\n",
              "     <input type=\"file\" id=\"files-b8fd4f1f-87de-4391-81d2-f9c8921d72ee\" name=\"files[]\" multiple disabled\n",
              "        style=\"border:none\" />\n",
              "     <output id=\"result-b8fd4f1f-87de-4391-81d2-f9c8921d72ee\">\n",
              "      Upload widget is only available when the cell has been executed in the\n",
              "      current browser session. Please rerun this cell to enable.\n",
              "      </output>\n",
              "      <script>// Copyright 2017 Google LLC\n",
              "//\n",
              "// Licensed under the Apache License, Version 2.0 (the \"License\");\n",
              "// you may not use this file except in compliance with the License.\n",
              "// You may obtain a copy of the License at\n",
              "//\n",
              "//      http://www.apache.org/licenses/LICENSE-2.0\n",
              "//\n",
              "// Unless required by applicable law or agreed to in writing, software\n",
              "// distributed under the License is distributed on an \"AS IS\" BASIS,\n",
              "// WITHOUT WARRANTIES OR CONDITIONS OF ANY KIND, either express or implied.\n",
              "// See the License for the specific language governing permissions and\n",
              "// limitations under the License.\n",
              "\n",
              "/**\n",
              " * @fileoverview Helpers for google.colab Python module.\n",
              " */\n",
              "(function(scope) {\n",
              "function span(text, styleAttributes = {}) {\n",
              "  const element = document.createElement('span');\n",
              "  element.textContent = text;\n",
              "  for (const key of Object.keys(styleAttributes)) {\n",
              "    element.style[key] = styleAttributes[key];\n",
              "  }\n",
              "  return element;\n",
              "}\n",
              "\n",
              "// Max number of bytes which will be uploaded at a time.\n",
              "const MAX_PAYLOAD_SIZE = 100 * 1024;\n",
              "\n",
              "function _uploadFiles(inputId, outputId) {\n",
              "  const steps = uploadFilesStep(inputId, outputId);\n",
              "  const outputElement = document.getElementById(outputId);\n",
              "  // Cache steps on the outputElement to make it available for the next call\n",
              "  // to uploadFilesContinue from Python.\n",
              "  outputElement.steps = steps;\n",
              "\n",
              "  return _uploadFilesContinue(outputId);\n",
              "}\n",
              "\n",
              "// This is roughly an async generator (not supported in the browser yet),\n",
              "// where there are multiple asynchronous steps and the Python side is going\n",
              "// to poll for completion of each step.\n",
              "// This uses a Promise to block the python side on completion of each step,\n",
              "// then passes the result of the previous step as the input to the next step.\n",
              "function _uploadFilesContinue(outputId) {\n",
              "  const outputElement = document.getElementById(outputId);\n",
              "  const steps = outputElement.steps;\n",
              "\n",
              "  const next = steps.next(outputElement.lastPromiseValue);\n",
              "  return Promise.resolve(next.value.promise).then((value) => {\n",
              "    // Cache the last promise value to make it available to the next\n",
              "    // step of the generator.\n",
              "    outputElement.lastPromiseValue = value;\n",
              "    return next.value.response;\n",
              "  });\n",
              "}\n",
              "\n",
              "/**\n",
              " * Generator function which is called between each async step of the upload\n",
              " * process.\n",
              " * @param {string} inputId Element ID of the input file picker element.\n",
              " * @param {string} outputId Element ID of the output display.\n",
              " * @return {!Iterable<!Object>} Iterable of next steps.\n",
              " */\n",
              "function* uploadFilesStep(inputId, outputId) {\n",
              "  const inputElement = document.getElementById(inputId);\n",
              "  inputElement.disabled = false;\n",
              "\n",
              "  const outputElement = document.getElementById(outputId);\n",
              "  outputElement.innerHTML = '';\n",
              "\n",
              "  const pickedPromise = new Promise((resolve) => {\n",
              "    inputElement.addEventListener('change', (e) => {\n",
              "      resolve(e.target.files);\n",
              "    });\n",
              "  });\n",
              "\n",
              "  const cancel = document.createElement('button');\n",
              "  inputElement.parentElement.appendChild(cancel);\n",
              "  cancel.textContent = 'Cancel upload';\n",
              "  const cancelPromise = new Promise((resolve) => {\n",
              "    cancel.onclick = () => {\n",
              "      resolve(null);\n",
              "    };\n",
              "  });\n",
              "\n",
              "  // Wait for the user to pick the files.\n",
              "  const files = yield {\n",
              "    promise: Promise.race([pickedPromise, cancelPromise]),\n",
              "    response: {\n",
              "      action: 'starting',\n",
              "    }\n",
              "  };\n",
              "\n",
              "  cancel.remove();\n",
              "\n",
              "  // Disable the input element since further picks are not allowed.\n",
              "  inputElement.disabled = true;\n",
              "\n",
              "  if (!files) {\n",
              "    return {\n",
              "      response: {\n",
              "        action: 'complete',\n",
              "      }\n",
              "    };\n",
              "  }\n",
              "\n",
              "  for (const file of files) {\n",
              "    const li = document.createElement('li');\n",
              "    li.append(span(file.name, {fontWeight: 'bold'}));\n",
              "    li.append(span(\n",
              "        `(${file.type || 'n/a'}) - ${file.size} bytes, ` +\n",
              "        `last modified: ${\n",
              "            file.lastModifiedDate ? file.lastModifiedDate.toLocaleDateString() :\n",
              "                                    'n/a'} - `));\n",
              "    const percent = span('0% done');\n",
              "    li.appendChild(percent);\n",
              "\n",
              "    outputElement.appendChild(li);\n",
              "\n",
              "    const fileDataPromise = new Promise((resolve) => {\n",
              "      const reader = new FileReader();\n",
              "      reader.onload = (e) => {\n",
              "        resolve(e.target.result);\n",
              "      };\n",
              "      reader.readAsArrayBuffer(file);\n",
              "    });\n",
              "    // Wait for the data to be ready.\n",
              "    let fileData = yield {\n",
              "      promise: fileDataPromise,\n",
              "      response: {\n",
              "        action: 'continue',\n",
              "      }\n",
              "    };\n",
              "\n",
              "    // Use a chunked sending to avoid message size limits. See b/62115660.\n",
              "    let position = 0;\n",
              "    do {\n",
              "      const length = Math.min(fileData.byteLength - position, MAX_PAYLOAD_SIZE);\n",
              "      const chunk = new Uint8Array(fileData, position, length);\n",
              "      position += length;\n",
              "\n",
              "      const base64 = btoa(String.fromCharCode.apply(null, chunk));\n",
              "      yield {\n",
              "        response: {\n",
              "          action: 'append',\n",
              "          file: file.name,\n",
              "          data: base64,\n",
              "        },\n",
              "      };\n",
              "\n",
              "      let percentDone = fileData.byteLength === 0 ?\n",
              "          100 :\n",
              "          Math.round((position / fileData.byteLength) * 100);\n",
              "      percent.textContent = `${percentDone}% done`;\n",
              "\n",
              "    } while (position < fileData.byteLength);\n",
              "  }\n",
              "\n",
              "  // All done.\n",
              "  yield {\n",
              "    response: {\n",
              "      action: 'complete',\n",
              "    }\n",
              "  };\n",
              "}\n",
              "\n",
              "scope.google = scope.google || {};\n",
              "scope.google.colab = scope.google.colab || {};\n",
              "scope.google.colab._files = {\n",
              "  _uploadFiles,\n",
              "  _uploadFilesContinue,\n",
              "};\n",
              "})(self);\n",
              "</script> "
            ]
          },
          "metadata": {}
        },
        {
          "output_type": "stream",
          "name": "stdout",
          "text": [
            "Saving FOORUM.csv to FOORUM.csv\n"
          ]
        }
      ],
      "source": [
        "#UPLOAD ARQUIVO\n",
        "from google.colab import files\n",
        "arquivo = files.upload()"
      ]
    },
    {
      "cell_type": "code",
      "source": [
        "df.printSchema()"
      ],
      "metadata": {
        "colab": {
          "base_uri": "https://localhost:8080/"
        },
        "id": "UzwC54nGbma5",
        "outputId": "565c99d7-ebea-412e-fb30-0cd1d559c57a"
      },
      "execution_count": 20,
      "outputs": [
        {
          "output_type": "stream",
          "name": "stdout",
          "text": [
            "root\n",
            " |-- Data: string (nullable = true)\n",
            " |-- 2011: double (nullable = true)\n",
            " |-- 2012: double (nullable = true)\n",
            " |-- 2013: double (nullable = true)\n",
            " |-- 2014: double (nullable = true)\n",
            " |-- 2015: double (nullable = true)\n",
            " |-- 2016: double (nullable = true)\n",
            " |-- 2017: double (nullable = true)\n",
            " |-- 2018: double (nullable = true)\n",
            " |-- 2019: double (nullable = true)\n",
            " |-- 2020: double (nullable = true)\n",
            " |-- 2021: double (nullable = true)\n",
            "\n"
          ]
        }
      ]
    },
    {
      "cell_type": "code",
      "source": [
        "# LENDO O ARQUIVOO\n",
        "df = spark.read.csv('FOORUM.csv', header=True, inferSchema=True, sep=\";\")\n",
        "\n"
      ],
      "metadata": {
        "id": "x_tVLH1BYnDA"
      },
      "execution_count": 21,
      "outputs": []
    },
    {
      "cell_type": "code",
      "source": [
        "# EXIBIR A BASE DE DADOS\n",
        "df.show(34, truncate=False)"
      ],
      "metadata": {
        "colab": {
          "base_uri": "https://localhost:8080/"
        },
        "id": "Nu3PfOLWdHfm",
        "outputId": "bbda535f-f62a-4181-e19d-1dae1c7dad76"
      },
      "execution_count": 22,
      "outputs": [
        {
          "output_type": "stream",
          "name": "stdout",
          "text": [
            "+-------------------+------+------+------+------+------+------+------+------+------+------+------+\n",
            "|Data               |2011  |2012  |2013  |2014  |2015  |2016  |2017  |2018  |2019  |2020  |2021  |\n",
            "+-------------------+------+------+------+------+------+------+------+------+------+------+------+\n",
            "|Mortes/Ano         |47.215|54.694|55.847|59.73 |58.459|61.597|64.078|57.592|47.742|50.448|47.503|\n",
            "|Região Norte       |3.303 |5.833 |5.902 |6.261 |6.742 |7.422 |7.872 |8.074 |6.454 |5.758 |6.291 |\n",
            "|Acre               |148.0 |189.0 |215.0 |204.0 |234.0 |368.0 |530.0 |417.0 |296.0 |322.0 |192.0 |\n",
            "|Amazonas           |1.102 |1.16  |985.0 |1.201 |1.447 |1.189 |1.285 |1.234 |1.172 |1.121 |1.67  |\n",
            "|Amapá              |26.0  |174.0 |245.0 |274.0 |250.0 |399.0 |434.0 |484.0 |461.0 |356.0 |472.0 |\n",
            "|Pará               |1.269 |3.401 |3.536 |3.611 |3.772 |4.207 |4.527 |4.72  |3.497 |2.876 |2.881 |\n",
            "|Rondônia           |418.0 |515.0 |495.0 |540.0 |542.0 |586.0 |506.0 |431.0 |402.0 |413.0 |454.0 |\n",
            "|Roraima            |60.0  |72.0  |107.0 |78.0  |102.0 |212.0 |211.0 |384.0 |219.0 |212.0 |232.0 |\n",
            "|Tocantins          |280.0 |322.0 |319.0 |353.0 |395.0 |461.0 |379.0 |404.0 |407.0 |458.0 |390.0 |\n",
            "|Região Nordeste    |19.934|20.724|22.274|23.737|23.5  |24.814|27.288|23.474|18.19 |22.147|20.5  |\n",
            "|Alagoas            |2.401 |2.171 |2.273 |2.201 |1.808 |1.878 |1.926 |1.499 |1.095 |1.249 |1.069 |\n",
            "|Bahia              |6.051 |6.53  |6.026 |6.366 |6.273 |7.091 |6.979 |6.348 |6.002 |6.696 |6.734 |\n",
            "|Ceará              |2.762 |3.734 |4.432 |4.492 |4.13  |3.566 |5.329 |4.788 |2.359 |4.183 |3.418 |\n",
            "|Maranhão           |1.546 |1.666 |1.782 |2.158 |2.28  |2.342 |2.058 |1.779 |1.562 |2.041 |2.021 |\n",
            "|Paraíba            |1.667 |1.54  |1.537 |1.513 |1.502 |1.324 |1.286 |1.21  |942.0 |1.166 |1.161 |\n",
            "|Pernambuco         |3.378 |3.321 |3.097 |3.434 |3.889 |4.48  |5.427 |4.173 |3.412 |3.76  |3.368 |\n",
            "|Piauí              |349.0 |529.0 |551.0 |734.0 |673.0 |703.0 |653.0 |621.0 |587.0 |707.0 |782.0 |\n",
            "|Rio Grande do Norte|1.068 |388.0 |1.624 |1.762 |1.659 |1.98  |2.355 |1.926 |1.264 |1.357 |1.155 |\n",
            "|Sergipe            |712.0 |845.0 |952.0 |1.077 |1.286 |1.45  |1.275 |1.13  |967.0 |988.0 |792.0 |\n",
            "|Região Centro-Oeste|3.29  |5.12  |5.225 |5.666 |5.574 |5.467 |4.85  |4.778 |4.1   |4.231 |3.706 |\n",
            "|Distrito Federal   |761.0 |871.0 |743.0 |767.0 |694.0 |659.0 |557.0 |505.0 |461.0 |425.0 |347.0 |\n",
            "|Goiás              |1.055 |2.588 |2.774 |2.851 |3.054 |3.014 |2.676 |2.705 |2.251 |2.209 |1.881 |\n",
            "|Mato Grosso do Sul |459.0 |614.0 |578.0 |646.0 |600.0 |622.0 |564.0 |590.0 |482.0 |607.0 |589.0 |\n",
            "|Mato Grosso        |1.015 |1.047 |1.13  |1.402 |1.226 |1.172 |1.053 |978.0 |906.0 |990.0 |889.0 |\n",
            "|Região Sudeste     |14.409|16.43 |16.701|17.584|16.028|16.866|17.224|15.432|13.949|12.978|12.031|\n",
            "|Espírito Santo     |1.489 |1.736 |1.641 |1.626 |1.462 |1.308 |1.508 |1.187 |1.064 |1.206 |1.16  |\n",
            "|Minas Gerais       |3.78  |4.125 |4.24  |4.421 |4.36  |4.37  |4.136 |3.216 |2.829 |2.708 |2.45  |\n",
            "|Rio de Janeiro     |4.164 |4.241 |5.348 |5.719 |5.01  |6.262 |6.749 |6.714 |5.98  |4.907 |4.755 |\n",
            "|São Paulo          |4.976 |6.328 |5.472 |5.818 |5.196 |4.926 |4.831 |4.315 |4.076 |4.157 |3.666 |\n",
            "|Região Sul         |6.279 |6.587 |5.745 |6.482 |6.615 |7.028 |6.844 |5.834 |5.049 |5.334 |4.975 |\n",
            "|Paraná             |3.475 |3.453 |2.874 |2.87  |2.84  |2.94  |2.557 |2.409 |2.219 |2.49  |2.407 |\n",
            "|Rio Grande do Sul  |1.88  |2.222 |2.043 |2.691 |2.799 |3.051 |3.132 |2.485 |2.012 |2.033 |1.824 |\n",
            "|Santa Catarina     |924.0 |912.0 |828.0 |921.0 |976.0 |1.037 |1.155 |940.0 |818.0 |811.0 |744.0 |\n",
            "+-------------------+------+------+------+------+------+------+------+------+------+------+------+\n",
            "\n"
          ]
        }
      ]
    },
    {
      "cell_type": "code",
      "source": [
        "# SELECIONANDO ALGUMAS TABELASSS\n",
        "df_FOORUM = df.select('Data', '2012', '2013' , '2014' , '2017')"
      ],
      "metadata": {
        "id": "ZxXeTNB3lg3M"
      },
      "execution_count": 23,
      "outputs": []
    },
    {
      "cell_type": "code",
      "source": [
        "#SELECIONANDO ALGUMAS TABELAS\n",
        "df_FOORUM.show(34, truncate=False)\n"
      ],
      "metadata": {
        "colab": {
          "base_uri": "https://localhost:8080/"
        },
        "id": "E3QxeTYEnIVg",
        "outputId": "70292fab-2d6c-4bb0-a1e3-73e0829b870a"
      },
      "execution_count": 24,
      "outputs": [
        {
          "output_type": "stream",
          "name": "stdout",
          "text": [
            "+-------------------+------+------+------+------+\n",
            "|Data               |2012  |2013  |2014  |2017  |\n",
            "+-------------------+------+------+------+------+\n",
            "|Mortes/Ano         |54.694|55.847|59.73 |64.078|\n",
            "|Região Norte       |5.833 |5.902 |6.261 |7.872 |\n",
            "|Acre               |189.0 |215.0 |204.0 |530.0 |\n",
            "|Amazonas           |1.16  |985.0 |1.201 |1.285 |\n",
            "|Amapá              |174.0 |245.0 |274.0 |434.0 |\n",
            "|Pará               |3.401 |3.536 |3.611 |4.527 |\n",
            "|Rondônia           |515.0 |495.0 |540.0 |506.0 |\n",
            "|Roraima            |72.0  |107.0 |78.0  |211.0 |\n",
            "|Tocantins          |322.0 |319.0 |353.0 |379.0 |\n",
            "|Região Nordeste    |20.724|22.274|23.737|27.288|\n",
            "|Alagoas            |2.171 |2.273 |2.201 |1.926 |\n",
            "|Bahia              |6.53  |6.026 |6.366 |6.979 |\n",
            "|Ceará              |3.734 |4.432 |4.492 |5.329 |\n",
            "|Maranhão           |1.666 |1.782 |2.158 |2.058 |\n",
            "|Paraíba            |1.54  |1.537 |1.513 |1.286 |\n",
            "|Pernambuco         |3.321 |3.097 |3.434 |5.427 |\n",
            "|Piauí              |529.0 |551.0 |734.0 |653.0 |\n",
            "|Rio Grande do Norte|388.0 |1.624 |1.762 |2.355 |\n",
            "|Sergipe            |845.0 |952.0 |1.077 |1.275 |\n",
            "|Região Centro-Oeste|5.12  |5.225 |5.666 |4.85  |\n",
            "|Distrito Federal   |871.0 |743.0 |767.0 |557.0 |\n",
            "|Goiás              |2.588 |2.774 |2.851 |2.676 |\n",
            "|Mato Grosso do Sul |614.0 |578.0 |646.0 |564.0 |\n",
            "|Mato Grosso        |1.047 |1.13  |1.402 |1.053 |\n",
            "|Região Sudeste     |16.43 |16.701|17.584|17.224|\n",
            "|Espírito Santo     |1.736 |1.641 |1.626 |1.508 |\n",
            "|Minas Gerais       |4.125 |4.24  |4.421 |4.136 |\n",
            "|Rio de Janeiro     |4.241 |5.348 |5.719 |6.749 |\n",
            "|São Paulo          |6.328 |5.472 |5.818 |4.831 |\n",
            "|Região Sul         |6.587 |5.745 |6.482 |6.844 |\n",
            "|Paraná             |3.453 |2.874 |2.87  |2.557 |\n",
            "|Rio Grande do Sul  |2.222 |2.043 |2.691 |3.132 |\n",
            "|Santa Catarina     |912.0 |828.0 |921.0 |1.155 |\n",
            "+-------------------+------+------+------+------+\n",
            "\n"
          ]
        }
      ]
    },
    {
      "cell_type": "code",
      "source": [
        "from pyspark.sql.functions import col\n",
        "\n",
        "#  somente valores absolutos e seus respectivos anos\n",
        "df_soma = df.limit(1).select([sum(col(c)).alias(c) for c in df.columns[1:]])\n",
        "\n",
        "df_soma.show()\n",
        "\n"
      ],
      "metadata": {
        "colab": {
          "base_uri": "https://localhost:8080/"
        },
        "id": "tiT2UUcOs99C",
        "outputId": "0d2253ac-0199-496a-a63c-f03c054ce535"
      },
      "execution_count": 28,
      "outputs": [
        {
          "output_type": "stream",
          "name": "stdout",
          "text": [
            "+------+------+------+-----+------+------+------+------+------+------+------+\n",
            "|  2011|  2012|  2013| 2014|  2015|  2016|  2017|  2018|  2019|  2020|  2021|\n",
            "+------+------+------+-----+------+------+------+------+------+------+------+\n",
            "|47.215|54.694|55.847|59.73|58.459|61.597|64.078|57.592|47.742|50.448|47.503|\n",
            "+------+------+------+-----+------+------+------+------+------+------+------+\n",
            "\n"
          ]
        }
      ]
    },
    {
      "cell_type": "code",
      "source": [
        "# Ano com maior indice\n",
        "from pyspark.sql.functions import count\n",
        "\n",
        "df_sum = df_FOORUM.groupBy('2017').agg(count('*').alias('2018'))\n",
        "df_sum.show()\n"
      ],
      "metadata": {
        "colab": {
          "base_uri": "https://localhost:8080/"
        },
        "id": "DIn5P6bDjWtM",
        "outputId": "d7e791bb-3d7c-4885-d985-d6b75c5a4444"
      },
      "execution_count": 15,
      "outputs": [
        {
          "output_type": "stream",
          "name": "stdout",
          "text": [
            "+------+----+\n",
            "|  2017|2018|\n",
            "+------+----+\n",
            "| 6.749|   1|\n",
            "| 379.0|   1|\n",
            "| 1.053|   1|\n",
            "| 6.844|   1|\n",
            "| 434.0|   1|\n",
            "| 1.285|   1|\n",
            "| 6.979|   1|\n",
            "| 4.136|   1|\n",
            "| 5.427|   1|\n",
            "| 1.508|   1|\n",
            "|64.078|   1|\n",
            "| 4.831|   1|\n",
            "| 2.058|   1|\n",
            "| 2.557|   1|\n",
            "| 1.275|   1|\n",
            "| 530.0|   1|\n",
            "| 1.286|   1|\n",
            "|27.288|   1|\n",
            "| 3.132|   1|\n",
            "| 557.0|   1|\n",
            "+------+----+\n",
            "only showing top 20 rows\n",
            "\n"
          ]
        }
      ]
    },
    {
      "cell_type": "code",
      "source": [
        "# Somando todos os valores e calculando a media por ano de mortes violentas intencionais\n",
        "\n",
        "\n",
        "\n",
        "valores = [47.215, 54.694, 55.847, 59.730, 58.459, 61.597, 64.078, 57.592, 47.742, 50.448, 47.503]\n",
        "\n",
        "soma_total = 0\n",
        "\n",
        "for valor in valores:\n",
        "    soma_total += valor\n",
        "\n",
        "media = soma_total / len(valores)\n",
        "\n",
        "print(\"Média dos valores:\")\n",
        "print(media)\n",
        "\n"
      ],
      "metadata": {
        "colab": {
          "base_uri": "https://localhost:8080/"
        },
        "id": "2-zrLK7y5H86",
        "outputId": "b168d59d-2469-4b18-f9a9-88fc8e16a676"
      },
      "execution_count": 16,
      "outputs": [
        {
          "output_type": "stream",
          "name": "stdout",
          "text": [
            "Média dos valores:\n",
            "54.991363636363644\n"
          ]
        }
      ]
    },
    {
      "cell_type": "code",
      "source": [
        "# Gráficos com valores absolutos \n",
        "\n",
        "import matplotlib.pyplot as plt\n",
        "\n",
        "# Dados\n",
        "anos = [2011, 2012, 2013, 2014, 2015, 2016, 2017, 2018, 2019, 2020, 2021]\n",
        "valores = [47.215, 54.694, 55.847, 59.730, 58.459, 61.597, 64.078, 57.592, 47.742, 50.448, 47.503]\n",
        "\n",
        "# Estilo\n",
        "plt.style.use('seaborn-whitegrid')\n",
        "\n",
        "# Figura\n",
        "plt.figure(figsize=(12, 6))\n",
        "\n",
        "# Criar o gráfico\n",
        "plt.plot(anos, valores, marker='o', linestyle='-', color='blue', linewidth=3)\n",
        "\n",
        "# Valores nas linhas\n",
        "for i in range(len(anos)):\n",
        "    offset = valores[i] * 0.05\n",
        "    plt.text(anos[i], valores[i] + offset, str(valores[i]), ha='center', va='bottom', fontsize=10)\n",
        "\n",
        "# Título e eixos\n",
        "plt.title('Taxa de Mortes Violentas Intencionais - MVI', fontsize=14)\n",
        "plt.xlabel('Ano', fontsize=12)\n",
        "plt.ylabel('Valor absoluto MVI', fontsize=12)\n",
        "\n",
        "# Ajuste da altura\n",
        "min_valor = min(valores)\n",
        "max_valor = max(valores)\n",
        "delta = (max_valor - min_valor) * 2\n",
        "plt.ylim(min_valor - delta, max_valor + delta)\n",
        "\n",
        "# Definir todos os anos\n",
        "plt.xticks(anos, rotation=0)\n",
        "\n",
        "# Exibir o gráfico\n",
        "plt.show()\n"
      ],
      "metadata": {
        "colab": {
          "base_uri": "https://localhost:8080/",
          "height": 595
        },
        "id": "dZP6TCaOB4cL",
        "outputId": "900820f2-61ab-4892-c366-a105691e6b79"
      },
      "execution_count": 29,
      "outputs": [
        {
          "output_type": "stream",
          "name": "stderr",
          "text": [
            "<ipython-input-29-507ca64836af>:10: MatplotlibDeprecationWarning: The seaborn styles shipped by Matplotlib are deprecated since 3.6, as they no longer correspond to the styles shipped by seaborn. However, they will remain available as 'seaborn-v0_8-<style>'. Alternatively, directly use the seaborn API instead.\n",
            "  plt.style.use('seaborn-whitegrid')\n"
          ]
        },
        {
          "output_type": "display_data",
          "data": {
            "text/plain": [
              "<Figure size 1200x600 with 1 Axes>"
            ],
            "image/png": "[encoded data removed]"
          },
          "metadata": {}
        }
      ]
    }
  ]
}
