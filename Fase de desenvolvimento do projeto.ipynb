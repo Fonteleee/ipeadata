{
  "nbformat": 4,
  "nbformat_minor": 0,
  "metadata": {
    "colab": {
      "provenance": [],
      "mount_file_id": "1RXYk7pbOSxXgBfwUPL3MfZKdCONthyi_",
      "authorship_tag": "ABX9TyPcDl/qHJYjJVXYfYIMkT5b",
      "include_colab_link": true
    },
    "kernelspec": {
      "name": "python3",
      "display_name": "Python 3"
    },
    "language_info": {
      "name": "python"
    }
  },
  "cells": [
    {
      "cell_type": "markdown",
      "metadata": {
        "id": "view-in-github",
        "colab_type": "text"
      },
      "source": [
        "<a href=\"https://colab.research.google.com/github/Fonteleee/ipeadata/blob/main/Untitledquasela.ipynb\" target=\"_parent\"><img src=\"https://colab.research.google.com/assets/colab-badge.svg\" alt=\"Open In Colab\"/></a>"
      ]
    },
    {
      "cell_type": "code",
      "execution_count": 43,
      "metadata": {
        "colab": {
          "base_uri": "https://localhost:8080/",
          "height": 39
        },
        "id": "3boaz-aEVUD9",
        "outputId": "55c24ad8-e743-499c-861f-fc3e5edbc301"
      },
      "outputs": [
        {
          "output_type": "display_data",
          "data": {
            "text/plain": [
              "<IPython.core.display.HTML object>"
            ],
            "text/html": [
              "\n",
              "     <input type=\"file\" id=\"files-777db734-f124-4670-87f1-e24e43d0d033\" name=\"files[]\" multiple disabled\n",
              "        style=\"border:none\" />\n",
              "     <output id=\"result-777db734-f124-4670-87f1-e24e43d0d033\">\n",
              "      Upload widget is only available when the cell has been executed in the\n",
              "      current browser session. Please rerun this cell to enable.\n",
              "      </output>\n",
              "      <script>// Copyright 2017 Google LLC\n",
              "//\n",
              "// Licensed under the Apache License, Version 2.0 (the \"License\");\n",
              "// you may not use this file except in compliance with the License.\n",
              "// You may obtain a copy of the License at\n",
              "//\n",
              "//      http://www.apache.org/licenses/LICENSE-2.0\n",
              "//\n",
              "// Unless required by applicable law or agreed to in writing, software\n",
              "// distributed under the License is distributed on an \"AS IS\" BASIS,\n",
              "// WITHOUT WARRANTIES OR CONDITIONS OF ANY KIND, either express or implied.\n",
              "// See the License for the specific language governing permissions and\n",
              "// limitations under the License.\n",
              "\n",
              "/**\n",
              " * @fileoverview Helpers for google.colab Python module.\n",
              " */\n",
              "(function(scope) {\n",
              "function span(text, styleAttributes = {}) {\n",
              "  const element = document.createElement('span');\n",
              "  element.textContent = text;\n",
              "  for (const key of Object.keys(styleAttributes)) {\n",
              "    element.style[key] = styleAttributes[key];\n",
              "  }\n",
              "  return element;\n",
              "}\n",
              "\n",
              "// Max number of bytes which will be uploaded at a time.\n",
              "const MAX_PAYLOAD_SIZE = 100 * 1024;\n",
              "\n",
              "function _uploadFiles(inputId, outputId) {\n",
              "  const steps = uploadFilesStep(inputId, outputId);\n",
              "  const outputElement = document.getElementById(outputId);\n",
              "  // Cache steps on the outputElement to make it available for the next call\n",
              "  // to uploadFilesContinue from Python.\n",
              "  outputElement.steps = steps;\n",
              "\n",
              "  return _uploadFilesContinue(outputId);\n",
              "}\n",
              "\n",
              "// This is roughly an async generator (not supported in the browser yet),\n",
              "// where there are multiple asynchronous steps and the Python side is going\n",
              "// to poll for completion of each step.\n",
              "// This uses a Promise to block the python side on completion of each step,\n",
              "// then passes the result of the previous step as the input to the next step.\n",
              "function _uploadFilesContinue(outputId) {\n",
              "  const outputElement = document.getElementById(outputId);\n",
              "  const steps = outputElement.steps;\n",
              "\n",
              "  const next = steps.next(outputElement.lastPromiseValue);\n",
              "  return Promise.resolve(next.value.promise).then((value) => {\n",
              "    // Cache the last promise value to make it available to the next\n",
              "    // step of the generator.\n",
              "    outputElement.lastPromiseValue = value;\n",
              "    return next.value.response;\n",
              "  });\n",
              "}\n",
              "\n",
              "/**\n",
              " * Generator function which is called between each async step of the upload\n",
              " * process.\n",
              " * @param {string} inputId Element ID of the input file picker element.\n",
              " * @param {string} outputId Element ID of the output display.\n",
              " * @return {!Iterable<!Object>} Iterable of next steps.\n",
              " */\n",
              "function* uploadFilesStep(inputId, outputId) {\n",
              "  const inputElement = document.getElementById(inputId);\n",
              "  inputElement.disabled = false;\n",
              "\n",
              "  const outputElement = document.getElementById(outputId);\n",
              "  outputElement.innerHTML = '';\n",
              "\n",
              "  const pickedPromise = new Promise((resolve) => {\n",
              "    inputElement.addEventListener('change', (e) => {\n",
              "      resolve(e.target.files);\n",
              "    });\n",
              "  });\n",
              "\n",
              "  const cancel = document.createElement('button');\n",
              "  inputElement.parentElement.appendChild(cancel);\n",
              "  cancel.textContent = 'Cancel upload';\n",
              "  const cancelPromise = new Promise((resolve) => {\n",
              "    cancel.onclick = () => {\n",
              "      resolve(null);\n",
              "    };\n",
              "  });\n",
              "\n",
              "  // Wait for the user to pick the files.\n",
              "  const files = yield {\n",
              "    promise: Promise.race([pickedPromise, cancelPromise]),\n",
              "    response: {\n",
              "      action: 'starting',\n",
              "    }\n",
              "  };\n",
              "\n",
              "  cancel.remove();\n",
              "\n",
              "  // Disable the input element since further picks are not allowed.\n",
              "  inputElement.disabled = true;\n",
              "\n",
              "  if (!files) {\n",
              "    return {\n",
              "      response: {\n",
              "        action: 'complete',\n",
              "      }\n",
              "    };\n",
              "  }\n",
              "\n",
              "  for (const file of files) {\n",
              "    const li = document.createElement('li');\n",
              "    li.append(span(file.name, {fontWeight: 'bold'}));\n",
              "    li.append(span(\n",
              "        `(${file.type || 'n/a'}) - ${file.size} bytes, ` +\n",
              "        `last modified: ${\n",
              "            file.lastModifiedDate ? file.lastModifiedDate.toLocaleDateString() :\n",
              "                                    'n/a'} - `));\n",
              "    const percent = span('0% done');\n",
              "    li.appendChild(percent);\n",
              "\n",
              "    outputElement.appendChild(li);\n",
              "\n",
              "    const fileDataPromise = new Promise((resolve) => {\n",
              "      const reader = new FileReader();\n",
              "      reader.onload = (e) => {\n",
              "        resolve(e.target.result);\n",
              "      };\n",
              "      reader.readAsArrayBuffer(file);\n",
              "    });\n",
              "    // Wait for the data to be ready.\n",
              "    let fileData = yield {\n",
              "      promise: fileDataPromise,\n",
              "      response: {\n",
              "        action: 'continue',\n",
              "      }\n",
              "    };\n",
              "\n",
              "    // Use a chunked sending to avoid message size limits. See b/62115660.\n",
              "    let position = 0;\n",
              "    do {\n",
              "      const length = Math.min(fileData.byteLength - position, MAX_PAYLOAD_SIZE);\n",
              "      const chunk = new Uint8Array(fileData, position, length);\n",
              "      position += length;\n",
              "\n",
              "      const base64 = btoa(String.fromCharCode.apply(null, chunk));\n",
              "      yield {\n",
              "        response: {\n",
              "          action: 'append',\n",
              "          file: file.name,\n",
              "          data: base64,\n",
              "        },\n",
              "      };\n",
              "\n",
              "      let percentDone = fileData.byteLength === 0 ?\n",
              "          100 :\n",
              "          Math.round((position / fileData.byteLength) * 100);\n",
              "      percent.textContent = `${percentDone}% done`;\n",
              "\n",
              "    } while (position < fileData.byteLength);\n",
              "  }\n",
              "\n",
              "  // All done.\n",
              "  yield {\n",
              "    response: {\n",
              "      action: 'complete',\n",
              "    }\n",
              "  };\n",
              "}\n",
              "\n",
              "scope.google = scope.google || {};\n",
              "scope.google.colab = scope.google.colab || {};\n",
              "scope.google.colab._files = {\n",
              "  _uploadFiles,\n",
              "  _uploadFilesContinue,\n",
              "};\n",
              "})(self);\n",
              "</script> "
            ]
          },
          "metadata": {}
        }
      ],
      "source": [
        "from google.colab import files\n",
        "arquivo = files.upload()"
      ]
    },
    {
      "cell_type": "code",
      "source": [
        "df = spark.read.csv('ipeadata.csv', header=True, inferSchema=True, sep=\";\")\n",
        "\n"
      ],
      "metadata": {
        "id": "x_tVLH1BYnDA"
      },
      "execution_count": 44,
      "outputs": []
    },
    {
      "cell_type": "code",
      "source": [
        "df.printSchema()"
      ],
      "metadata": {
        "colab": {
          "base_uri": "https://localhost:8080/"
        },
        "id": "UzwC54nGbma5",
        "outputId": "ff5ede54-b814-4adb-e217-2a14f549dcc9"
      },
      "execution_count": 34,
      "outputs": [
        {
          "output_type": "stream",
          "name": "stdout",
          "text": [
            "root\n",
            " |-- Sigla: string (nullable = true)\n",
            " |-- Código: integer (nullable = true)\n",
            " |-- Estado: string (nullable = true)\n",
            " |-- 2011: integer (nullable = true)\n",
            " |-- 2012: integer (nullable = true)\n",
            " |-- 2013: integer (nullable = true)\n",
            " |-- 2014: integer (nullable = true)\n",
            " |-- 2015: integer (nullable = true)\n",
            " |-- 2016: integer (nullable = true)\n",
            " |-- 2017: integer (nullable = true)\n",
            " |-- 2018: integer (nullable = true)\n",
            " |-- 2019: integer (nullable = true)\n",
            " |-- 2020: integer (nullable = true)\n",
            " |-- 2021: integer (nullable = true)\n",
            "\n"
          ]
        }
      ]
    },
    {
      "cell_type": "code",
      "source": [
        "df.show(29, truncate=False)"
      ],
      "metadata": {
        "colab": {
          "base_uri": "https://localhost:8080/"
        },
        "id": "Nu3PfOLWdHfm",
        "outputId": "edd0533f-fcce-4201-abd7-8aee0bfed706"
      },
      "execution_count": 35,
      "outputs": [
        {
          "output_type": "stream",
          "name": "stdout",
          "text": [
            "+-----+------+-------------------+----+----+----+----+----+----+----+----+----+----+----+\n",
            "|Sigla|Código|Estado             |2011|2012|2013|2014|2015|2016|2017|2018|2019|2020|2021|\n",
            "+-----+------+-------------------+----+----+----+----+----+----+----+----+----+----+----+\n",
            "|AC   |12    |Acre               |164 |207 |234 |232 |217 |363 |516 |408 |318 |295 |204 |\n",
            "|AL   |27    |Alagoas            |2243|2046|2148|2085|1747|1820|1812|1441|1115|1292|1070|\n",
            "|AM   |13    |Amazonas           |1291|1344|1189|1232|1472|1447|1671|1540|1590|1321|1804|\n",
            "|AP   |16    |Amapá              |209 |252 |225 |256 |293 |381 |383 |426 |361 |387 |462 |\n",
            "|BA   |29    |Bahia              |5389|5964|5537|5881|5902|7061|7374|6675|6012|6962|7094|\n",
            "|CE   |23    |Ceará              |2791|3840|4472|4626|4162|3642|5432|4900|2417|3992|3471|\n",
            "|DF   |53    |Distrito Federal   |902 |954 |837 |843 |742 |760 |610 |530 |480 |453 |401 |\n",
            "|ES   |32    |Espírito Santo     |1671|1660|1617|1609|1448|1266|1521|1164|1038|1212|1206|\n",
            "|GO   |52    |Goiás              |2231|2750|2888|2815|2938|2968|2843|2635|2219|2148|1786|\n",
            "|MA   |21    |Maranhão           |1586|1769|2145|2446|2424|2381|2159|1970|1696|2088|1993|\n",
            "|MG   |31    |Minas Gerais       |4211|4487|4648|4664|4489|4573|4256|3325|2878|2725|2555|\n",
            "|MS   |50    |Mato Grosso do Sul |673 |682 |621 |699 |634 |670 |656 |569 |491 |490 |550 |\n",
            "|MT   |51    |Mato Grosso        |998 |1064|1149|1353|1198|1175|1098|985 |894 |983 |884 |\n",
            "|PA   |15    |Pará               |3050|3220|3377|3429|3661|4207|4550|4494|3352|2777|2811|\n",
            "|PB   |25    |Paraíba            |1608|1507|1529|1529|1511|1342|1341|1240|940 |1130|1135|\n",
            "|PE   |26    |Pernambuco         |3389|3245|3067|3298|3776|4352|5320|4125|3394|3699|3368|\n",
            "|PI   |22    |Piauí              |436 |522 |593 |710 |645 |698 |622 |604 |553 |655 |745 |\n",
            "|PR   |41    |Paraná             |3282|3395|2861|2932|2899|3035|2736|2409|2063|2265|2332|\n",
            "|RJ   |33    |Rio de Janeiro     |4410|4364|4737|5296|4784|5659|5976|6056|3417|4587|4582|\n",
            "|RN   |24    |Rio Grande do Norte|1053|1124|1447|1602|1545|1854|2203|1824|1345|1406|1179|\n",
            "|RO   |11    |Rondônia           |442 |518 |476 |572 |592 |689 |550 |470 |445 |448 |530 |\n",
            "|RR   |14    |Roraima            |94  |144 |214 |158 |203 |204 |248 |414 |234 |237 |258 |\n",
            "|RS   |43    |Rio Grande do Sul  |2076|2382|2321|2723|2944|3225|3316|2699|2184|2094|1888|\n",
            "|SC   |42    |Santa Catarina     |810 |819 |784 |896 |942 |974 |1057|839 |760 |728 |708 |\n",
            "|SE   |28    |Sergipe            |713 |857 |945 |1081|1293|1454|1309|1133|972 |980 |789 |\n",
            "|SP   |35    |São Paulo          |5703|6404|5892|6036|5305|4755|4541|3646|3300|3317|3031|\n",
            "|TO   |17    |Tocantins          |358 |369 |345 |373 |492 |566 |552 |562 |448 |481 |441 |\n",
            "+-----+------+-------------------+----+----+----+----+----+----+----+----+----+----+----+\n",
            "\n"
          ]
        }
      ]
    },
    {
      "cell_type": "code",
      "source": [
        "df_ipeadata = df.select('estado' , '2011' , '2012' , '2013' , '2014' , '2015' , '2016' , '2017' , '2018' , '2019' , '2020' , '2021')"
      ],
      "metadata": {
        "id": "ZxXeTNB3lg3M"
      },
      "execution_count": 39,
      "outputs": []
    },
    {
      "cell_type": "code",
      "source": [
        "df_ipeadata.show(29, truncate=False)"
      ],
      "metadata": {
        "colab": {
          "base_uri": "https://localhost:8080/"
        },
        "id": "E3QxeTYEnIVg",
        "outputId": "9e638f7d-ba35-4685-df84-223aaa4405ce"
      },
      "execution_count": 45,
      "outputs": [
        {
          "output_type": "stream",
          "name": "stdout",
          "text": [
            "+-------------------+----+----+----+----+----+----+----+----+----+----+----+\n",
            "|estado             |2011|2012|2013|2014|2015|2016|2017|2018|2019|2020|2021|\n",
            "+-------------------+----+----+----+----+----+----+----+----+----+----+----+\n",
            "|Acre               |164 |207 |234 |232 |217 |363 |516 |408 |318 |295 |204 |\n",
            "|Alagoas            |2243|2046|2148|2085|1747|1820|1812|1441|1115|1292|1070|\n",
            "|Amazonas           |1291|1344|1189|1232|1472|1447|1671|1540|1590|1321|1804|\n",
            "|Amapá              |209 |252 |225 |256 |293 |381 |383 |426 |361 |387 |462 |\n",
            "|Bahia              |5389|5964|5537|5881|5902|7061|7374|6675|6012|6962|7094|\n",
            "|Ceará              |2791|3840|4472|4626|4162|3642|5432|4900|2417|3992|3471|\n",
            "|Distrito Federal   |902 |954 |837 |843 |742 |760 |610 |530 |480 |453 |401 |\n",
            "|Espírito Santo     |1671|1660|1617|1609|1448|1266|1521|1164|1038|1212|1206|\n",
            "|Goiás              |2231|2750|2888|2815|2938|2968|2843|2635|2219|2148|1786|\n",
            "|Maranhão           |1586|1769|2145|2446|2424|2381|2159|1970|1696|2088|1993|\n",
            "|Minas Gerais       |4211|4487|4648|4664|4489|4573|4256|3325|2878|2725|2555|\n",
            "|Mato Grosso do Sul |673 |682 |621 |699 |634 |670 |656 |569 |491 |490 |550 |\n",
            "|Mato Grosso        |998 |1064|1149|1353|1198|1175|1098|985 |894 |983 |884 |\n",
            "|Pará               |3050|3220|3377|3429|3661|4207|4550|4494|3352|2777|2811|\n",
            "|Paraíba            |1608|1507|1529|1529|1511|1342|1341|1240|940 |1130|1135|\n",
            "|Pernambuco         |3389|3245|3067|3298|3776|4352|5320|4125|3394|3699|3368|\n",
            "|Piauí              |436 |522 |593 |710 |645 |698 |622 |604 |553 |655 |745 |\n",
            "|Paraná             |3282|3395|2861|2932|2899|3035|2736|2409|2063|2265|2332|\n",
            "|Rio de Janeiro     |4410|4364|4737|5296|4784|5659|5976|6056|3417|4587|4582|\n",
            "|Rio Grande do Norte|1053|1124|1447|1602|1545|1854|2203|1824|1345|1406|1179|\n",
            "|Rondônia           |442 |518 |476 |572 |592 |689 |550 |470 |445 |448 |530 |\n",
            "|Roraima            |94  |144 |214 |158 |203 |204 |248 |414 |234 |237 |258 |\n",
            "|Rio Grande do Sul  |2076|2382|2321|2723|2944|3225|3316|2699|2184|2094|1888|\n",
            "|Santa Catarina     |810 |819 |784 |896 |942 |974 |1057|839 |760 |728 |708 |\n",
            "|Sergipe            |713 |857 |945 |1081|1293|1454|1309|1133|972 |980 |789 |\n",
            "|São Paulo          |5703|6404|5892|6036|5305|4755|4541|3646|3300|3317|3031|\n",
            "|Tocantins          |358 |369 |345 |373 |492 |566 |552 |562 |448 |481 |441 |\n",
            "+-------------------+----+----+----+----+----+----+----+----+----+----+----+\n",
            "\n"
          ]
        }
      ]
    }
  ]
}
